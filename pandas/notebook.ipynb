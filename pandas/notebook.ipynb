{
 "cells": [
  {
   "cell_type": "markdown",
   "metadata": {},
   "source": [
    "### Import de librerias"
   ]
  },
  {
   "cell_type": "code",
   "execution_count": 1,
   "metadata": {},
   "outputs": [],
   "source": [
    "import os\n",
    "from google.cloud import bigquery\n",
    "import pandas as pd\n",
    "import db_dtypes\n",
    "from pandas_gbq import to_gbq"
   ]
  },
  {
   "cell_type": "code",
   "execution_count": 2,
   "metadata": {},
   "outputs": [],
   "source": [
    "# Establece la ruta al archivo JSON de las credenciales\n",
    "os.environ[\"GOOGLE_APPLICATION_CREDENTIALS\"] = \"ruta_a_credenciales_json\""
   ]
  },
  {
   "cell_type": "markdown",
   "metadata": {},
   "source": [
    "### Interactuar con Bigquery"
   ]
  },
  {
   "cell_type": "code",
   "execution_count": 3,
   "metadata": {},
   "outputs": [],
   "source": [
    "# Construye un cliente para interactuar con BigQuery\n",
    "client = bigquery.Client()"
   ]
  },
  {
   "cell_type": "markdown",
   "metadata": {},
   "source": [
    "### Top_tracks"
   ]
  },
  {
   "cell_type": "code",
   "execution_count": 4,
   "metadata": {},
   "outputs": [],
   "source": [
    "# Ejecuta una consulta \n",
    "query_tracks = \"\"\"\n",
    "SELECT *\n",
    "FROM `id_proyecto.dataset.tabla`\n",
    "\"\"\""
   ]
  },
  {
   "cell_type": "code",
   "execution_count": null,
   "metadata": {},
   "outputs": [],
   "source": [
    "# Ejecuta la consulta y carga el resultado en un DataFrame de Pandas\n",
    "df_tracks = client.query(query_tracks).to_dataframe()"
   ]
  },
  {
   "cell_type": "code",
   "execution_count": null,
   "metadata": {},
   "outputs": [],
   "source": [
    "df_tracks"
   ]
  },
  {
   "cell_type": "markdown",
   "metadata": {},
   "source": [
    "#### Transformaciones"
   ]
  },
  {
   "cell_type": "markdown",
   "metadata": {},
   "source": [
    "##### Cambiar nombres de columnas"
   ]
  },
  {
   "cell_type": "code",
   "execution_count": 7,
   "metadata": {},
   "outputs": [],
   "source": [
    "df_tracks.rename(columns={\n",
    "    'Track_Name': 'Nombre_Cancion',\n",
    "    'Artist': 'Artista',\n",
    "    'Album': 'Album',\n",
    "    'Album_Release_Date': 'Fecha_Lanzamiento_Album',\n",
    "    'Duration_ms': 'Duracion_ms',\n",
    "    'Popularity': 'Popularidad',\n",
    "    'Explicit': 'Explicito',\n",
    "    'External_URL': 'URL_Externo',\n",
    "    'Preview_URL': 'URL_Previo',\n",
    "    'Load_Date': 'Fecha_Carga',\n",
    "    'Album_Image_URL': 'Imagen_album_url'\n",
    "}, inplace=True)\n",
    "\n"
   ]
  },
  {
   "cell_type": "code",
   "execution_count": null,
   "metadata": {},
   "outputs": [],
   "source": [
    "df_tracks"
   ]
  },
  {
   "cell_type": "markdown",
   "metadata": {},
   "source": [
    "##### Extraer el año de lanzamiento del álbum"
   ]
  },
  {
   "cell_type": "code",
   "execution_count": null,
   "metadata": {},
   "outputs": [],
   "source": [
    "df_tracks['Fecha_Lanzamiento_Album'] = pd.to_datetime(df_tracks['Fecha_Lanzamiento_Album'], errors='coerce')\n",
    "df_tracks['Anio_Lanzamiento'] = df_tracks['Fecha_Lanzamiento_Album'].dt.year\n",
    "df_tracks"
   ]
  },
  {
   "cell_type": "markdown",
   "metadata": {},
   "source": [
    "##### Filtrar por duración"
   ]
  },
  {
   "cell_type": "code",
   "execution_count": null,
   "metadata": {},
   "outputs": [],
   "source": [
    "long_songs = df_tracks[df_tracks['Duracion_ms'] > 300000]  # Canciones mayores a 5 minutos\n",
    "long_songs"
   ]
  },
  {
   "cell_type": "markdown",
   "metadata": {},
   "source": [
    "##### Crear una columna de popularidad normalizada"
   ]
  },
  {
   "cell_type": "code",
   "execution_count": null,
   "metadata": {},
   "outputs": [],
   "source": [
    "df_tracks['Popularidad_Norm'] = (df_tracks['Popularidad'] - df_tracks['Popularidad'].min()) / (df_tracks['Popularidad'].max() - df_tracks['Popularidad'].min())\n",
    "df_tracks"
   ]
  },
  {
   "cell_type": "markdown",
   "metadata": {},
   "source": [
    "##### Agrupar datos"
   ]
  },
  {
   "cell_type": "code",
   "execution_count": null,
   "metadata": {},
   "outputs": [],
   "source": [
    "average_duration = df_tracks.groupby('Artista')['Duracion_ms'].mean().reset_index()\n",
    "average_duration.rename(columns={'Duracion_ms': 'Duracion_Promedio_ms'}, inplace=True)\n",
    "average_duration"
   ]
  },
  {
   "cell_type": "markdown",
   "metadata": {},
   "source": [
    "##### Reemplazar valores faltantes"
   ]
  },
  {
   "cell_type": "code",
   "execution_count": null,
   "metadata": {},
   "outputs": [],
   "source": [
    "df_tracks['Popularidad'].fillna(df_tracks['Popularidad'].mean(), inplace=True)\n",
    "df_tracks"
   ]
  },
  {
   "cell_type": "markdown",
   "metadata": {},
   "source": [
    "##### Crear categorías"
   ]
  },
  {
   "cell_type": "code",
   "execution_count": null,
   "metadata": {},
   "outputs": [],
   "source": [
    "bins = [0, 20, 50, 80, 100]\n",
    "labels = ['Baja', 'Media', 'Alta', 'Muy Alta']\n",
    "df_tracks['Popularidad_Categorizada'] = pd.cut(df_tracks['Popularidad'], bins=bins, labels=labels)\n",
    "df_tracks"
   ]
  },
  {
   "cell_type": "markdown",
   "metadata": {},
   "source": [
    "##### Pasaje hora argentina de carga"
   ]
  },
  {
   "cell_type": "code",
   "execution_count": null,
   "metadata": {},
   "outputs": [],
   "source": [
    "df_tracks.dtypes"
   ]
  },
  {
   "cell_type": "code",
   "execution_count": null,
   "metadata": {},
   "outputs": [],
   "source": [
    "from datetime import timedelta\n",
    "\n",
    "# Restar 3 horas a la columna `Fecha_Carga`\n",
    "df_tracks['Fecha_Carga'] = df_tracks['Fecha_Carga'] - timedelta(hours=3)\n",
    "\n",
    "# Visualiza el DataFrame actualizado\n",
    "df_tracks"
   ]
  },
  {
   "cell_type": "markdown",
   "metadata": {},
   "source": [
    "##### Columna de minutos"
   ]
  },
  {
   "cell_type": "code",
   "execution_count": null,
   "metadata": {},
   "outputs": [],
   "source": [
    "df_tracks['Duracion_min'] = df_tracks['Duracion_ms'] / 60000  # Convierte milisegundos a minutos\n",
    "df_tracks"
   ]
  },
  {
   "cell_type": "markdown",
   "metadata": {},
   "source": [
    "#### Cargar a Bigquery"
   ]
  },
  {
   "cell_type": "code",
   "execution_count": null,
   "metadata": {},
   "outputs": [],
   "source": [
    "# Cargar el DataFrame a BigQuery, reemplazando si la tabla ya existe\n",
    "df_tracks.to_gbq(\n",
    "    destination_table='proyecto_id.dataset.tabla', \n",
    "    project_id='proyecto_id', \n",
    "    if_exists='replace'  # 'replace' creará la tabla si no existe\n",
    ")"
   ]
  },
  {
   "cell_type": "markdown",
   "metadata": {},
   "source": [
    "### Top_artists"
   ]
  },
  {
   "cell_type": "code",
   "execution_count": 19,
   "metadata": {},
   "outputs": [],
   "source": [
    "\n",
    "query_artists = \"\"\"\n",
    "SELECT *\n",
    "FROM `proyecto_id.dataset.tabla`\n",
    "\"\"\""
   ]
  },
  {
   "cell_type": "code",
   "execution_count": null,
   "metadata": {},
   "outputs": [],
   "source": [
    "# Ejecuta la consulta y carga el resultado en un DataFrame de Pandas\n",
    "df_artists = client.query(query_artists).to_dataframe()\n",
    "df_artists"
   ]
  },
  {
   "cell_type": "markdown",
   "metadata": {},
   "source": [
    "#### Transformaciones"
   ]
  },
  {
   "cell_type": "markdown",
   "metadata": {},
   "source": [
    "##### Cambiar nombres de columnas"
   ]
  },
  {
   "cell_type": "code",
   "execution_count": 21,
   "metadata": {},
   "outputs": [],
   "source": [
    "df_artists.rename(columns={\n",
    "    'Rank': 'Rango',\n",
    "    'Artist_Name': 'Nombre_Artista',\n",
    "    'Genres': 'Generos',\n",
    "    'Popularity': 'Popularidad',\n",
    "    'Followers': 'Seguidores',\n",
    "    'External_URL': 'URL_Externo',\n",
    "    'Image_URL': 'URL_Imagen',\n",
    "    'Load_Date': 'Fecha_Carga'\n",
    "}, inplace=True)\n"
   ]
  },
  {
   "cell_type": "code",
   "execution_count": null,
   "metadata": {},
   "outputs": [],
   "source": [
    "df_artists.dtypes"
   ]
  },
  {
   "cell_type": "markdown",
   "metadata": {},
   "source": [
    "##### Contar generos"
   ]
  },
  {
   "cell_type": "code",
   "execution_count": null,
   "metadata": {},
   "outputs": [],
   "source": [
    "df_artists['Numero_Generos'] = df_artists['Generos'].str.split(',').str.len()\n",
    "df_artists"
   ]
  },
  {
   "cell_type": "markdown",
   "metadata": {},
   "source": [
    "##### Filtrar artistas populares"
   ]
  },
  {
   "cell_type": "code",
   "execution_count": null,
   "metadata": {},
   "outputs": [],
   "source": [
    "artistas_populares = df_artists[df_artists['Popularidad'] > 50]\n",
    "artistas_populares"
   ]
  },
  {
   "cell_type": "markdown",
   "metadata": {},
   "source": [
    "##### Normalizar seguidores"
   ]
  },
  {
   "cell_type": "code",
   "execution_count": null,
   "metadata": {},
   "outputs": [],
   "source": [
    "df_artists['Seguidores_Norm'] = (df_artists['Seguidores'] - df_artists['Seguidores'].min()) / (df_artists['Seguidores'].max() - df_artists['Seguidores'].min())\n",
    "df_artists"
   ]
  },
  {
   "cell_type": "markdown",
   "metadata": {},
   "source": [
    "##### Agregar columna de año de carga:"
   ]
  },
  {
   "cell_type": "code",
   "execution_count": null,
   "metadata": {},
   "outputs": [],
   "source": [
    "df_artists['Anio_Carga'] = df_artists['Fecha_Carga'].dt.year\n",
    "df_artists"
   ]
  },
  {
   "cell_type": "markdown",
   "metadata": {},
   "source": [
    "##### Pasaje hora argentina de carga"
   ]
  },
  {
   "cell_type": "code",
   "execution_count": null,
   "metadata": {},
   "outputs": [],
   "source": [
    "from datetime import timedelta\n",
    "\n",
    "# Restar 3 horas a la columna `Fecha_Carga`\n",
    "df_artists['Fecha_Carga'] = df_artists['Fecha_Carga'] - timedelta(hours=3)\n",
    "\n",
    "# Visualiza el DataFrame actualizado\n",
    "df_artists\n",
    "\n",
    "\n"
   ]
  },
  {
   "cell_type": "markdown",
   "metadata": {},
   "source": [
    "##### Primer genero"
   ]
  },
  {
   "cell_type": "code",
   "execution_count": null,
   "metadata": {},
   "outputs": [],
   "source": [
    "# Agregar la columna 'Primer_Genero'\n",
    "df_artists['Primer_Genero'] = df_artists['Generos'].str.split(',').str[0].str.strip()\n",
    "df_artists"
   ]
  },
  {
   "cell_type": "markdown",
   "metadata": {},
   "source": [
    "#### Carga en Bigquery"
   ]
  },
  {
   "cell_type": "code",
   "execution_count": null,
   "metadata": {},
   "outputs": [],
   "source": [
    "# Cargar el DataFrame a BigQuery, reemplazando si la tabla ya existe\n",
    "df_artists.to_gbq(\n",
    "    destination_table='proyecto_id.dataset.tabla', \n",
    "    project_id='proyecto_id', \n",
    "    if_exists='replace'  # 'replace' creará la tabla si no existe\n",
    ")"
   ]
  },
  {
   "cell_type": "markdown",
   "metadata": {},
   "source": [
    "### Top_song_argentina"
   ]
  },
  {
   "cell_type": "code",
   "execution_count": 29,
   "metadata": {},
   "outputs": [],
   "source": [
    "# Ejecuta una consulta \n",
    "query_top = \"\"\"\n",
    "SELECT *\n",
    "FROM `proyecto_id.dataset.tabla`\n",
    "\"\"\""
   ]
  },
  {
   "cell_type": "code",
   "execution_count": null,
   "metadata": {},
   "outputs": [],
   "source": [
    "# Ejecuta la consulta y carga el resultado en un DataFrame de Pandas\n",
    "df_top = client.query(query_top).to_dataframe()\n",
    "df_top"
   ]
  },
  {
   "cell_type": "markdown",
   "metadata": {},
   "source": [
    "#### Transformaciones"
   ]
  },
  {
   "cell_type": "markdown",
   "metadata": {},
   "source": [
    "##### Cambiar nombres de columnas"
   ]
  },
  {
   "cell_type": "code",
   "execution_count": null,
   "metadata": {},
   "outputs": [],
   "source": [
    "df_top.rename(columns={\n",
    "    'Rank': 'Rango',\n",
    "    'Song_Name': 'Nombre_Cancion',\n",
    "    'Artist': 'Artista',\n",
    "    'Album': 'Album',\n",
    "    'Release_Date': 'Fecha_Lanzamiento',\n",
    "    'Popularity': 'Popularidad',\n",
    "    'Duration_ms': 'Duracion_ms',\n",
    "    'External_URL': 'URL_Externo',\n",
    "    'Load_Date': 'Fecha_Carga',\n",
    "    'Album_Image': 'Imagen_Album',\n",
    "    'Play_Count': 'Reproducciones',\n",
    "    \n",
    "}, inplace=True)\n",
    "df_top"
   ]
  },
  {
   "cell_type": "markdown",
   "metadata": {},
   "source": [
    "##### Columna de minutos"
   ]
  },
  {
   "cell_type": "code",
   "execution_count": null,
   "metadata": {},
   "outputs": [],
   "source": [
    "df_top['Duracion_min'] = df_top['Duracion_ms'] / 60000  # Convierte milisegundos a minutos\n",
    "df_top"
   ]
  },
  {
   "cell_type": "markdown",
   "metadata": {},
   "source": [
    "##### Pasaje hora argentina de carga"
   ]
  },
  {
   "cell_type": "code",
   "execution_count": null,
   "metadata": {},
   "outputs": [],
   "source": [
    "from datetime import timedelta\n",
    "\n",
    "# Restar 3 horas a la columna `Fecha_Carga`\n",
    "df_top['Fecha_Carga'] = df_top['Fecha_Carga'] - timedelta(hours=3)\n",
    "\n",
    "# Visualiza el DataFrame actualizado\n",
    "df_top"
   ]
  },
  {
   "cell_type": "markdown",
   "metadata": {},
   "source": [
    "#### Carga en BigQuery"
   ]
  },
  {
   "cell_type": "code",
   "execution_count": null,
   "metadata": {},
   "outputs": [],
   "source": [
    "# Cargar el DataFrame a BigQuery, reemplazando si la tabla ya existe\n",
    "df_top.to_gbq(\n",
    "    destination_table='proyecto_id.dataset.tabla', \n",
    "    project_id='proyecto_id', \n",
    "    if_exists='replace'  # 'replace' creará la tabla si no existe\n",
    ")"
   ]
  }
 ],
 "metadata": {
  "kernelspec": {
   "display_name": "Python 3",
   "language": "python",
   "name": "python3"
  },
  "language_info": {
   "codemirror_mode": {
    "name": "ipython",
    "version": 3
   },
   "file_extension": ".py",
   "mimetype": "text/x-python",
   "name": "python",
   "nbconvert_exporter": "python",
   "pygments_lexer": "ipython3",
   "version": "3.12.6"
  }
 },
 "nbformat": 4,
 "nbformat_minor": 2
}
